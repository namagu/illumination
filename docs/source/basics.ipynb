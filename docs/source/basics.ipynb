{
 "cells": [
  {
   "cell_type": "markdown",
   "metadata": {},
   "source": [
    "# Basic Principles\n",
    "\n",
    "Let's imagine you want to do something slightly more complicated. Maybe you want to make a movie, and include an linked time series plot next to it. Maybe you want to include several movie frames at different cadences. Maybe you want to create your own snazzy custom format. To do so, there are three core concepts you need to understand."
   ]
  },
  {
   "cell_type": "markdown",
   "metadata": {},
   "source": [
    "## a `Sequence` is a collection of data, with times\n",
    "\n",
    "To make an animation, we need a data structure that has some kind of *data* that has a *time* axis associated with it. For example, here we make a `Sequence` out of a small postage stamp of imaging data. "
   ]
  },
  {
   "cell_type": "code",
   "execution_count": null,
   "metadata": {},
   "outputs": [],
   "source": [
    "from illumination import *"
   ]
  },
  {
   "cell_type": "code",
   "execution_count": null,
   "metadata": {},
   "outputs": [],
   "source": [
    "from illumination.cartoons import create_test_stamp\n",
    "stamp = create_test_stamp(N=10, seed=42)"
   ]
  },
  {
   "cell_type": "markdown",
   "metadata": {},
   "source": [
    "The `make_sequence` function is a general wrapper that does a decent job of figuring out what kind of sequence should be made out of the given inputs."
   ]
  },
  {
   "cell_type": "code",
   "execution_count": null,
   "metadata": {},
   "outputs": [],
   "source": [
    "seq = make_sequence(stamp)"
   ]
  },
  {
   "cell_type": "markdown",
   "metadata": {},
   "source": [
    "`make_sequence` should be able to handle at least the following types of input:\n",
    "    + single FITS filename, and an `ext_image=` keyword for the extension to use\n",
    "    + list of FITS filenames, and an `ext_image=` keyword\n",
    "    + a glob pattern to search for FITS files, and an `ext_image=` keyword \n",
    "    + single FITS HDUList, and an `ext_image=` keyword \n",
    "    + list of loaded FITS HDULists, and an `ext_image=` keyword \n",
    "    + a Stamp object from the `cosmics` package"
   ]
  },
  {
   "cell_type": "markdown",
   "metadata": {},
   "source": [
    "Each `sequence` has a `.time` attribute. It is an `astropy.time` object, and can be indexed as an array. If times are fake (for example, if they are simply image number or cadence number), then we pretend (artificially) that the times are `gps` format with a cadence of 1s. "
   ]
  },
  {
   "cell_type": "code",
   "execution_count": null,
   "metadata": {},
   "outputs": [],
   "source": [
    "print(\"\"\"\n",
    "{} \n",
    " has {} times defined,\n",
    " spanning {} \n",
    "       to {}\n",
    " with a cadence of {:.2}\"\"\".format(\n",
    "    seq, len(seq.time), seq.time[0], seq.time[-1], seq.cadence().to('s')))"
   ]
  },
  {
   "cell_type": "markdown",
   "metadata": {},
   "source": [
    "Each sequence can be indexed directly with `[i]` to extract the `i`th element of the dataset. Different types of sequences will store data in different ways. For a small stamp, it will generally load the entire 3D (x,y,t) dataset into memory. For a sequence of large FITS images, it will generally only load individual FITS images on the fly as needed, to preserve memory. These different background behaviors should hopefully remain hidden to the casual user."
   ]
  },
  {
   "cell_type": "code",
   "execution_count": null,
   "metadata": {},
   "outputs": [],
   "source": [
    "fi, ax = plt.subplots(1,3, figsize=(10,3))\n",
    "for i in range(3):\n",
    "    ax[i].imshow(seq[i])\n",
    "    ax[i].set_title(seq.time[i])"
   ]
  },
  {
   "cell_type": "markdown",
   "metadata": {},
   "source": [
    "## a `Frame` is a plot panel, which can display a `Sequence`\n",
    "\n",
    "A frame is a container in which a sequence can be displayed. Different frames can display different views, even of the same dataset. For example, here we create two different frames that include our little sequence `seq` as their data."
   ]
  },
  {
   "cell_type": "code",
   "execution_count": null,
   "metadata": {},
   "outputs": [],
   "source": [
    "normal = imshowFrame(name='cecelia', \n",
    "                     data=seq)\n",
    "normal"
   ]
  },
  {
   "cell_type": "markdown",
   "metadata": {},
   "source": [
    "Below, we can create a different frame using the same data, but by including the `processingsteps` keyword, it will subtract the mean image from each individual image before displaying it."
   ]
  },
  {
   "cell_type": "code",
   "execution_count": null,
   "metadata": {},
   "outputs": [],
   "source": [
    "subtracted = imshowFrame(name='henrietta', \n",
    "                         data=seq, \n",
    "                         title='(median subtracted)',\n",
    "                         processingsteps=['subtractmean'])\n",
    "subtracted"
   ]
  },
  {
   "cell_type": "markdown",
   "metadata": {},
   "source": [
    "We will be able to visualize these frames once they are included in an illustration. "
   ]
  },
  {
   "cell_type": "markdown",
   "metadata": {},
   "source": [
    "## an `Illustration` is a collection of `Frames`, with its own layout\n",
    "\n",
    "Once we have created our frames, we can include them in an illustration. The illustration handles not only the basic grid layout of the frames, but also synchronizing their frames when plotting an animation. When you call the illustration's `.plot` method, it will make all the constituent frames `plot` too. When you call the `.animate` method, it will make an animation by looping through a grid of times and updating each frame whenever it needs updating. "
   ]
  },
  {
   "cell_type": "code",
   "execution_count": null,
   "metadata": {},
   "outputs": [],
   "source": [
    "i = GenericIllustration(imshows=[normal, subtracted])\n",
    "i.plot()\n",
    "i.animate('_static/a-pair-of-frames.mp4')"
   ]
  },
  {
   "cell_type": "markdown",
   "metadata": {},
   "source": [
    "<video src='_static/a-pair-of-frames.mp4' controls loop></video>"
   ]
  },
  {
   "cell_type": "markdown",
   "metadata": {},
   "source": [
    "Looking back at the `normal` and `subtracted` frames that we defined, we can see a few features. The data and times for the two frames are identical, so the images update synchronously at each timestep of the animation. The `subtracted` frame looks like noise scattered around 0, as we would expect for having subtracted off the mean image. We gave `subtracted` a custom title, but `normal` fell back on an initial best guess.\n",
    "\n"
   ]
  },
  {
   "cell_type": "markdown",
   "metadata": {},
   "source": [
    "If you want, you can access the individual frames inside an illustration through the `.frames` dictionary. This may come in handy if you want to modify the attributes of a frame once it's in an illustration, or change something in how it is plotted after calling `i.plot()`. (See examples below.)"
   ]
  },
  {
   "cell_type": "code",
   "execution_count": null,
   "metadata": {},
   "outputs": [],
   "source": [
    "print('{} contains {} frames: {})'.format(i, len(i.frames), list(i.frames.keys())))"
   ]
  },
  {
   "cell_type": "markdown",
   "metadata": {},
   "source": [
    "By default, all image frames will share the same color mapping. We can let each frame have its own color mapping by setting the illustration's `sharecolorbar=` keyword to `False`."
   ]
  },
  {
   "cell_type": "code",
   "execution_count": null,
   "metadata": {},
   "outputs": [],
   "source": [
    "i = GenericIllustration(imshows=[normal, subtracted], sharecolorbar=False)\n",
    "i.plot()\n",
    "i.animate('_static/a-pair-of-frames-with-different-colorbars.mp4')"
   ]
  },
  {
   "cell_type": "markdown",
   "metadata": {},
   "source": [
    "<video src='_static/a-pair-of-frames-with-different-colorbars.mp4' controls loop></video>"
   ]
  },
  {
   "cell_type": "markdown",
   "metadata": {},
   "source": [
    "If you're trying to directly compare values across different frames, keep `sharecolorbar=True`. If you're looking for qualitative features and want to highlight the details unique to each frame, let each have its own colorbar. In this example, where the data were simulated to represent photon counts, we can see that the noise in the difference images is highest where the flux in the normal image is too."
   ]
  },
  {
   "cell_type": "markdown",
   "metadata": {},
   "source": [
    "## some example `Frame` combinations\n",
    "We can treat frames as somewhat modular containers, and build up illustrations through combinations of them. Here are a couple of examples of making custom illustrations by following the general process of \n",
    " 1. make some sequences\n",
    " 2. put them in frames\n",
    " 3. fill an illustration\n"
   ]
  },
  {
   "cell_type": "markdown",
   "metadata": {},
   "source": [
    "### simple `ZoomFrame` (recreating `illustratefits`)\n",
    "Let's start by recreating the zoom feature shown with `illustratefits` in the quickstart."
   ]
  },
  {
   "cell_type": "code",
   "execution_count": null,
   "metadata": {},
   "outputs": [],
   "source": [
    "# first create a sequence\n",
    "big = make_sequence(create_test_stamp(N=10, xsize=80, ysize=100))\n",
    "\n",
    "# then define some frames\n",
    "image = imshowFrame(name='big-image', data=big, title='imshow')\n",
    "zoom = ZoomFrame(name='zoom', source=image, position=(25, 50), size=(20,10), title='zoom')\n",
    "\n",
    "# then populate an illustration with them\n",
    "i = GenericIllustration(imshows=[image, zoom])\n",
    "i.plot()\n",
    "#i.animate('_static/an-example-of-a-zoom.mp4', dpi=75)\n",
    "f = i.frames['big-image']"
   ]
  },
  {
   "cell_type": "markdown",
   "metadata": {},
   "source": [
    "<video src='_static/an-example-of-a-zoom.mp4' controls loop>An example of a zoom movie.</video>"
   ]
  },
  {
   "cell_type": "markdown",
   "metadata": {},
   "source": [
    "### multiple `ZoomFrames` on multiple images\n",
    "Now, let's build a bit on that by including both the original images and some median-subtracted ones. In addition to the extra frames, we're also including some more complicated options in generating the illustration layout."
   ]
  },
  {
   "cell_type": "code",
   "execution_count": null,
   "metadata": {},
   "outputs": [],
   "source": [
    "# first create a sequence\n",
    "big = make_sequence(create_test_stamp(N=10, xsize=80, ysize=100))\n",
    "\n",
    "# then define some frames\n",
    "image = imshowFrame(name='big-image', data=big, title='imshow')\n",
    "zoom = ZoomFrame(name='zoom', source=image, position=(25, 50), size=(20,10), title='zoom')\n",
    "subtracted = imshowFrame(name='big-subtracted', data=big, title='subtracted', processingsteps=['subtractmedian'])\n",
    "subtractedzoom = ZoomFrame(name='zoom-subtracted', source=subtracted, position=(25, 50), size=(20,10), title='zoom')\n",
    "\n",
    "# then populate an illustration with them\n",
    "i = GenericIllustration(imshows=[image, zoom, subtracted, subtractedzoom], imshowrows=2, \n",
    "                        figsize=(7,6), hspace=0.2, wspace=0.02, \n",
    "                        left=0.05, right=0.95, bottom=0.05, top=0.9)\n",
    "i.plot()\n",
    "i.animate('_static/an-example-of-a-more-complicated-zoom.mp4', dpi=75)"
   ]
  },
  {
   "cell_type": "markdown",
   "metadata": {},
   "source": [
    "<video src='_static/an-example-of-a-more-complicated-zoom.mp4' controls loop>An example of a more complicated zoom movie.</video>"
   ]
  },
  {
   "cell_type": "markdown",
   "metadata": {},
   "source": [
    "### an `EmptyTimeseriesFrame` linked to an `imshowFrame`\n",
    "\n",
    "It might be nice to see a light curve synced up to the data from which it is derived. The `EmptyTimeseriesFrame` provides us with an empty frame, into which we can plot some time-series data. Here's a first step toward that capability; it still needs a bit of work, but hopefully this is enough to get started. The basic idea is to create an available plot location (an `Axes` object, in `matplotlib`-speak), where you can fill later with whatever plot elements you like. The below example demonstrates how to populate the time-series frame in two ways, both using its built-in `.plot` function and simply by adding elements to `i.frames['timeseries'].ax`."
   ]
  },
  {
   "cell_type": "code",
   "execution_count": null,
   "metadata": {},
   "outputs": [],
   "source": [
    "# make a dataset\n",
    "star = make_sequence(create_test_stamp(N=25, xsize=10, ysize=10, single=True))\n",
    "\n",
    "# create an empty time-series frame into which we will plot a timeseries\n",
    "lightcurve = EmptyTimeseriesFrame(name='timeseries')\n",
    "someimage = imshowFrame(name='image', data=star, title='', plotingredients=['image', 'arrows', 'colorbar'])\n",
    "\n",
    "# create an illustration that positions these frames next to each other\n",
    "i = SideBySideIllustration(timeseries=[lightcurve], imshows=[someimage])\n",
    "\n",
    "# plotting the illustration creates the basic structure...\n",
    "i.plot()\n",
    "\n",
    "# ...but we can still modify it through the individual frames\n",
    "f = i.frames['timeseries']\n",
    "\n",
    "# the time-series f.plot plot will subtract a the illustration's shared time offset\n",
    "time = star.time.jd\n",
    "flux = star._gather_3d().sum(-1).sum(-1)\n",
    "f.plot(time, flux, marker='o', color='black')\n",
    "\n",
    "# the f.ax refers to the time-series axes, so this is how we set up to plot into it\n",
    "plt.sca(f.ax)\n",
    "plt.axhline(np.mean(flux), color='cornflowerblue', zorder=-1)\n",
    "plt.ylabel('Some Flux')\n",
    "\n",
    "i.animate('_static/an-example-of-a-timeseries.mp4')"
   ]
  },
  {
   "cell_type": "markdown",
   "metadata": {},
   "source": [
    "<video src='_static/an-example-of-a-timeseries.mp4' controls loop>An example movie with a time-series linked to the movie.</video>"
   ]
  },
  {
   "cell_type": "markdown",
   "metadata": {},
   "source": [
    "The interface for plotting timeseries is still a little buggy and may change soon. For now, hopefully you find this helpful! \n",
    "\n",
    "Some more examples are included, in one way or another, in the `tests/` directory of the `playground` repository. Check those out, or please feel free to contribute new examples here! As always, please do not hesitate to contact [Zach Berta-Thompson](zach.bertathompson@colorado.edu) or leave an issue on the [gitlab repository](http://tessgit.mit.edu/zkbt/playground)."
   ]
  }
 ],
 "metadata": {
  "kernelspec": {
   "display_name": "Python 3",
   "language": "python",
   "name": "python3"
  },
  "language_info": {
   "codemirror_mode": {
    "name": "ipython",
    "version": 3
   },
   "file_extension": ".py",
   "mimetype": "text/x-python",
   "name": "python",
   "nbconvert_exporter": "python",
   "pygments_lexer": "ipython3",
   "version": "3.6.3"
  }
 },
 "nbformat": 4,
 "nbformat_minor": 2
}
