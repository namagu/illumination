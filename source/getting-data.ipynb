{
 "cells": [
  {
   "cell_type": "markdown",
   "metadata": {},
   "source": [
    "# Getting Data\n",
    "All data to display with `illumination` are one way or another stored as `Sequence` objects. The most common type of data is a sequence of images, which can most naturally be displayed as a movie. \n",
    "\n",
    "The wrapper function `make_image_sequence` is meant to be an easy way to create image sequences from a variety of inputs. It will do its best to try to guess how to create an image sequence out of whatever data you give it. Any time a `Sequence` of images is expected by an `Illustration` or `Frame`, inputs to the `data=` keyword argument will by default be passed through `make_image_sequence` to try to handle this conversion. "
   ]
  },
  {
   "cell_type": "code",
   "execution_count": null,
   "metadata": {},
   "outputs": [],
   "source": [
    "import illumination as il\n",
    "import numpy as np"
   ]
  },
  {
   "cell_type": "markdown",
   "metadata": {},
   "source": [
    "## Create a `Sequence` of images from..."
   ]
  },
  {
   "cell_type": "markdown",
   "metadata": {},
   "source": [
    "### ...arrays\n",
    "Any 2D `numpy` array will be interpeted by `make_image_sequence` as a sequence that contains a single image. The shape of a 2D array is interpreted as `(Nrows, Ncols)`."
   ]
  },
  {
   "cell_type": "code",
   "execution_count": null,
   "metadata": {},
   "outputs": [],
   "source": [
    "singleimage = il.create_test_array(N=1, xsize=20, ysize=10)[0]\n",
    "print(singleimage.shape, type(singleimage))\n",
    "seq = il.make_image_sequence(singleimage)\n",
    "il.imshowFrame(data=seq).plot()"
   ]
  },
  {
   "cell_type": "markdown",
   "metadata": {},
   "source": [
    "Any 3D `numpy` array will be interpeted by `make_image_sequence` as a sequence that contains multiple images, with the first dimension of the array refering to separate images. The shape of a 3D array is interpreted as `(Nimages, Nrows, Ncols)`."
   ]
  },
  {
   "cell_type": "code",
   "execution_count": null,
   "metadata": {},
   "outputs": [],
   "source": [
    "manyimages = il.create_test_array(N=10, xsize=100, ysize=50)\n",
    "print(manyimages.shape, type(manyimages))\n",
    "seq = il.make_image_sequence(manyimages)\n",
    "il.imshowFrame(data=seq).plot()"
   ]
  },
  {
   "cell_type": "markdown",
   "metadata": {},
   "source": [
    "### ...stamps (maybe remove this)"
   ]
  },
  {
   "cell_type": "code",
   "execution_count": null,
   "metadata": {},
   "outputs": [],
   "source": [
    "stamp = il.create_test_stamp()\n",
    "il.make_image_sequence(stamp)"
   ]
  },
  {
   "cell_type": "markdown",
   "metadata": {},
   "source": [
    "### ...FITS files"
   ]
  },
  {
   "cell_type": "code",
   "execution_count": null,
   "metadata": {},
   "outputs": [],
   "source": [
    "fits = il.create_test_fits()\n",
    "il.make_image_sequence(fits)"
   ]
  },
  {
   "cell_type": "code",
   "execution_count": null,
   "metadata": {},
   "outputs": [],
   "source": [
    "fits = [il.create_test_fits() for _ in range(10)]\n",
    "il.make_image_sequence(fits)"
   ]
  },
  {
   "cell_type": "markdown",
   "metadata": {},
   "source": [
    "### ...Target Pixel Files\n",
    "(including both \"regular\" TPFs and ones from from `tesscut`)"
   ]
  },
  {
   "cell_type": "markdown",
   "metadata": {},
   "source": [
    "### ...`.jpg`, `.png`, `.gif` normal images"
   ]
  },
  {
   "cell_type": "markdown",
   "metadata": {},
   "source": [
    "### ... `.mp4` movies"
   ]
  }
 ],
 "metadata": {
  "kernelspec": {
   "display_name": "Python 3",
   "language": "python",
   "name": "python3"
  },
  "language_info": {
   "codemirror_mode": {
    "name": "ipython",
    "version": 3
   },
   "file_extension": ".py",
   "mimetype": "text/x-python",
   "name": "python",
   "nbconvert_exporter": "python",
   "pygments_lexer": "ipython3",
   "version": "3.6.8"
  }
 },
 "nbformat": 4,
 "nbformat_minor": 2
}
