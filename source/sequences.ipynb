{
 "cells": [
  {
   "cell_type": "markdown",
   "metadata": {},
   "source": [
    "# sequences\n",
    "There are several kinds of sequences. The most obvious is a sequence of images, which can be displayed as a movie. These can be made most easiler with the wrapper function `make_image_sequence`."
   ]
  },
  {
   "cell_type": "code",
   "execution_count": null,
   "metadata": {},
   "outputs": [],
   "source": [
    "import illumination as il\n",
    "import numpy as np"
   ]
  },
  {
   "cell_type": "markdown",
   "metadata": {},
   "source": [
    "## image sequences"
   ]
  },
  {
   "cell_type": "code",
   "execution_count": null,
   "metadata": {},
   "outputs": [],
   "source": [
    "singleimage = il.create_test_array(N=1, xsize=20, ysize=10)[0]\n",
    "print(singleimage.shape, type(singleimage))\n",
    "il.make_image_sequence(singleimage)"
   ]
  },
  {
   "cell_type": "code",
   "execution_count": null,
   "metadata": {},
   "outputs": [],
   "source": [
    "manyimages = il.create_test_array(N=10, xsize=100, ysize=50)\n",
    "print(manyimages.shape, type(manyimages))\n",
    "il.make_image_sequence(manyimages)"
   ]
  },
  {
   "cell_type": "code",
   "execution_count": null,
   "metadata": {},
   "outputs": [],
   "source": [
    "stamp = il.create_test_stamp()\n",
    "il.make_image_sequence(stamp)"
   ]
  },
  {
   "cell_type": "code",
   "execution_count": null,
   "metadata": {},
   "outputs": [],
   "source": [
    "fits = il.create_test_fits()\n",
    "il.make_image_sequence(fits)"
   ]
  },
  {
   "cell_type": "code",
   "execution_count": null,
   "metadata": {},
   "outputs": [],
   "source": [
    "fits = [il.create_test_fits() for _ in range(10)]\n",
    "il.make_image_sequence(fits)"
   ]
  },
  {
   "cell_type": "markdown",
   "metadata": {},
   "source": [
    "## time-series sequences\n",
    "\n",
    "(Add details for x + y that change with time. Add t + y that change with time.)\n"
   ]
  }
 ],
 "metadata": {
  "kernelspec": {
   "display_name": "Python 3",
   "language": "python",
   "name": "python3"
  },
  "language_info": {
   "codemirror_mode": {
    "name": "ipython",
    "version": 3
   },
   "file_extension": ".py",
   "mimetype": "text/x-python",
   "name": "python",
   "nbconvert_exporter": "python",
   "pygments_lexer": "ipython3",
   "version": "3.6.3"
  }
 },
 "nbformat": 4,
 "nbformat_minor": 2
}
